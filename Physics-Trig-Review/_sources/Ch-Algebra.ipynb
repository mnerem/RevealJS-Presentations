{
 "cells": [
  {
   "cell_type": "markdown",
   "id": "71459b74-3da3-4eb0-a69f-281bf4709efa",
   "metadata": {},
   "source": [
    "# Algebra Review\n",
    "In this chapter we will highlight some of the key algebra tools/tricks that are utilize throughout physics."
   ]
  },
  {
   "cell_type": "markdown",
   "id": "17708234-b0c9-4593-9d8d-b73b6b4a3524",
   "metadata": {},
   "source": [
    "## Order of Operations\n",
    "Consider the following mathematical expression,\n",
    "\n",
    "```{math}\n",
    ":label: viral-math-problem\n",
    "6\\div2(1+2)\n",
    "```\n",
    "\n",
    "Problems like this one often go viral has people disgree on what the answer should be. Is it 1, is it 9, or is it some other number? It *feels* ambiguous on what the answer should be because depending on how you do your operations you will get different results.\n",
    "\n",
    "To prevent these types of confusion mathematics has adopted the **order of operations**. The sequence of rules dictating how to evaluate expressions lke the one above. You can remember the steps with the *PEMDAS* acronym.\n",
    "\n",
    "```{admonition} PEMDAS\n",
    "- *P*(arentheses)\n",
    "- *E*(xponents)\n",
    "- *M*(ultiplication) \n",
    "- *D*(ivision)\n",
    "- *A*(ddition)\n",
    "- *S*(ubtraction) \n",
    "\n",
    "The order of operations using PEMDAS for any expression will be \n",
    "1. Simplify anything inside a *parentheses*.\n",
    "2. Simplify anything involving *exponents* (this includes squareroots or any other radical).\n",
    "3. Evaluate all *multiplications* and *divisions*.\n",
    "4. Evaluate all *additions* and *subtractions*\n",
    "\n",
    "Note that steps three and four are evaluated from left to right. \n",
    "```\n",
    "\n",
    "Using PEMDAS we can calculate the equation {eq}`viral-math-problem` correctly.\n",
    "\n",
    "$$6\\div2\\underbrace{(1+2)}$$\n",
    "$$\\underbrace{6\\div2}(3)$$\n",
    "$$3(3)$$\n",
    "$$9$$"
   ]
  },
  {
   "cell_type": "markdown",
   "id": "56434250-2051-458c-b1a5-8c230ec79d3e",
   "metadata": {},
   "source": [
    "## Quadratic Formula\n",
    "Many problems in physics result in solving a quadratic polynomial. As an example how much will a spring compress if a weight is dropped on it.\n",
    "\n",
    "```{figure} ./media/spring-drop-mass.svg\n",
    "---\n",
    "align: center\n",
    "name: spring-compress\n",
    "---\n",
    "Where you define the $y$-axis to be zero will change what potential energies you have initially and finally.\n",
    "However, your choice of coordinate system will not change the final answer.\n",
    "```\n",
    "\n",
    "Assume the block was released from rest at a height $h$ above the spring. Let $y$ represent the height of the spring and set it equal to zero when the spring is relaxed. Conservation of energy tells us that\n",
    "\n",
    "```{math}\n",
    ":label: eq-energy-conservation\n",
    "mgh=\\tfrac{1}{2}ky^2+mgy\n",
    "```\n",
    "\n",
    "This is a quadratic equation in $y$ and it has no nice simplifications to help us solve for $y$.\n",
    "This is where we can use the *quadratic formula* to tackle any problem.\n",
    "\n",
    "```{admonition} Quadratic Formula\n",
    "$$ax^2+bx+c=0$$\n",
    "\n",
    "$$x=\\frac{-b\\pm\\sqrt{b^2-4ac}}{2a}$$ (eq-quad-formula)\n",
    "```"
   ]
  },
  {
   "cell_type": "markdown",
   "id": "c7166d99-5d58-40fe-a87d-2c04b8b12e99",
   "metadata": {},
   "source": [
    "## Exercises\n",
    "1. Solve for how much the spring in figure {numref}`spring-compress` will compress, given the following values.\n",
    "   m=.40 kg, g=9.8 m/s$^2$m h=.60 m, k=340 N/m.\n",
    "   ```{dropdown} Solution\n",
    "   $$mgh=\\tfrac{1}{2}ky^2+mgy$$\n",
    "   $$\\tfrac{1}{2}ky^2+mgy-mgh=0$$\n",
    "   $$y=\\frac{-mg\\pm\\sqrt{(mg)^2-4*(\\tfrac{1}{2}k)(-mgh)}}{2(\\tfrac{1}{2}k)}$$\n",
    "   $$y=[+0.11\\,\\text{m},-0.13\\,\\text{m}]$$\n",
    "   \n",
    "   The solution to this particular problem will be the -0.13 meters. \n",
    "   ```\n",
    "   "
   ]
  }
 ],
 "metadata": {
  "kernelspec": {
   "display_name": "Python 3 (ipykernel)",
   "language": "python",
   "name": "python3"
  },
  "language_info": {
   "codemirror_mode": {
    "name": "ipython",
    "version": 3
   },
   "file_extension": ".py",
   "mimetype": "text/x-python",
   "name": "python",
   "nbconvert_exporter": "python",
   "pygments_lexer": "ipython3",
   "version": "3.8.10"
  }
 },
 "nbformat": 4,
 "nbformat_minor": 5
}
